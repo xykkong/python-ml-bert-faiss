{
  "nbformat": 4,
  "nbformat_minor": 0,
  "metadata": {
    "colab": {
      "provenance": [],
      "toc_visible": true,
      "authorship_tag": "ABX9TyN5PCILolENRN6V+2kXiZa1",
      "include_colab_link": true
    },
    "kernelspec": {
      "name": "python3",
      "display_name": "Python 3"
    },
    "language_info": {
      "name": "python"
    }
  },
  "cells": [
    {
      "cell_type": "markdown",
      "metadata": {
        "id": "view-in-github",
        "colab_type": "text"
      },
      "source": [
        "<a href=\"https://colab.research.google.com/github/xykkong/video-transcription-bert-faiss/blob/main/main.ipynb\" target=\"_parent\"><img src=\"https://colab.research.google.com/assets/colab-badge.svg\" alt=\"Open In Colab\"/></a>"
      ]
    },
    {
      "cell_type": "markdown",
      "source": [
        "# Pt1. Preparation"
      ],
      "metadata": {
        "id": "kCsFkvz5LHvJ"
      }
    },
    {
      "cell_type": "markdown",
      "source": [
        "## Installing Dependencies"
      ],
      "metadata": {
        "id": "S8xMZ0yDEcZB"
      }
    },
    {
      "cell_type": "code",
      "execution_count": 19,
      "metadata": {
        "colab": {
          "base_uri": "https://localhost:8080/"
        },
        "id": "TLoYyfQ08u7P",
        "outputId": "72ac6252-f5b5-445f-940c-4793fb902bd2"
      },
      "outputs": [
        {
          "output_type": "stream",
          "name": "stdout",
          "text": [
            "Requirement already satisfied: SpeechRecognition in /usr/local/lib/python3.10/dist-packages (3.10.1)\n",
            "Requirement already satisfied: requests>=2.26.0 in /usr/local/lib/python3.10/dist-packages (from SpeechRecognition) (2.31.0)\n",
            "Requirement already satisfied: typing-extensions in /usr/local/lib/python3.10/dist-packages (from SpeechRecognition) (4.5.0)\n",
            "Requirement already satisfied: charset-normalizer<4,>=2 in /usr/local/lib/python3.10/dist-packages (from requests>=2.26.0->SpeechRecognition) (3.3.2)\n",
            "Requirement already satisfied: idna<4,>=2.5 in /usr/local/lib/python3.10/dist-packages (from requests>=2.26.0->SpeechRecognition) (3.6)\n",
            "Requirement already satisfied: urllib3<3,>=1.21.1 in /usr/local/lib/python3.10/dist-packages (from requests>=2.26.0->SpeechRecognition) (2.0.7)\n",
            "Requirement already satisfied: certifi>=2017.4.17 in /usr/local/lib/python3.10/dist-packages (from requests>=2.26.0->SpeechRecognition) (2023.11.17)\n",
            "Requirement already satisfied: pydub in /usr/local/lib/python3.10/dist-packages (0.25.1)\n",
            "Requirement already satisfied: transformers in /usr/local/lib/python3.10/dist-packages (4.35.2)\n",
            "Requirement already satisfied: filelock in /usr/local/lib/python3.10/dist-packages (from transformers) (3.13.1)\n",
            "Requirement already satisfied: huggingface-hub<1.0,>=0.16.4 in /usr/local/lib/python3.10/dist-packages (from transformers) (0.20.1)\n",
            "Requirement already satisfied: numpy>=1.17 in /usr/local/lib/python3.10/dist-packages (from transformers) (1.23.5)\n",
            "Requirement already satisfied: packaging>=20.0 in /usr/local/lib/python3.10/dist-packages (from transformers) (23.2)\n",
            "Requirement already satisfied: pyyaml>=5.1 in /usr/local/lib/python3.10/dist-packages (from transformers) (6.0.1)\n",
            "Requirement already satisfied: regex!=2019.12.17 in /usr/local/lib/python3.10/dist-packages (from transformers) (2023.6.3)\n",
            "Requirement already satisfied: requests in /usr/local/lib/python3.10/dist-packages (from transformers) (2.31.0)\n",
            "Requirement already satisfied: tokenizers<0.19,>=0.14 in /usr/local/lib/python3.10/dist-packages (from transformers) (0.15.0)\n",
            "Requirement already satisfied: safetensors>=0.3.1 in /usr/local/lib/python3.10/dist-packages (from transformers) (0.4.1)\n",
            "Requirement already satisfied: tqdm>=4.27 in /usr/local/lib/python3.10/dist-packages (from transformers) (4.66.1)\n",
            "Requirement already satisfied: fsspec>=2023.5.0 in /usr/local/lib/python3.10/dist-packages (from huggingface-hub<1.0,>=0.16.4->transformers) (2023.6.0)\n",
            "Requirement already satisfied: typing-extensions>=3.7.4.3 in /usr/local/lib/python3.10/dist-packages (from huggingface-hub<1.0,>=0.16.4->transformers) (4.5.0)\n",
            "Requirement already satisfied: charset-normalizer<4,>=2 in /usr/local/lib/python3.10/dist-packages (from requests->transformers) (3.3.2)\n",
            "Requirement already satisfied: idna<4,>=2.5 in /usr/local/lib/python3.10/dist-packages (from requests->transformers) (3.6)\n",
            "Requirement already satisfied: urllib3<3,>=1.21.1 in /usr/local/lib/python3.10/dist-packages (from requests->transformers) (2.0.7)\n",
            "Requirement already satisfied: certifi>=2017.4.17 in /usr/local/lib/python3.10/dist-packages (from requests->transformers) (2023.11.17)\n",
            "Requirement already satisfied: faiss-cpu in /usr/local/lib/python3.10/dist-packages (1.7.4)\n",
            "Requirement already satisfied: torch in /usr/local/lib/python3.10/dist-packages (2.1.0+cu121)\n",
            "Requirement already satisfied: filelock in /usr/local/lib/python3.10/dist-packages (from torch) (3.13.1)\n",
            "Requirement already satisfied: typing-extensions in /usr/local/lib/python3.10/dist-packages (from torch) (4.5.0)\n",
            "Requirement already satisfied: sympy in /usr/local/lib/python3.10/dist-packages (from torch) (1.12)\n",
            "Requirement already satisfied: networkx in /usr/local/lib/python3.10/dist-packages (from torch) (3.2.1)\n",
            "Requirement already satisfied: jinja2 in /usr/local/lib/python3.10/dist-packages (from torch) (3.1.2)\n",
            "Requirement already satisfied: fsspec in /usr/local/lib/python3.10/dist-packages (from torch) (2023.6.0)\n",
            "Requirement already satisfied: triton==2.1.0 in /usr/local/lib/python3.10/dist-packages (from torch) (2.1.0)\n",
            "Requirement already satisfied: MarkupSafe>=2.0 in /usr/local/lib/python3.10/dist-packages (from jinja2->torch) (2.1.3)\n",
            "Requirement already satisfied: mpmath>=0.19 in /usr/local/lib/python3.10/dist-packages (from sympy->torch) (1.3.0)\n",
            "Requirement already satisfied: pandas in /usr/local/lib/python3.10/dist-packages (1.5.3)\n",
            "Requirement already satisfied: python-dateutil>=2.8.1 in /usr/local/lib/python3.10/dist-packages (from pandas) (2.8.2)\n",
            "Requirement already satisfied: pytz>=2020.1 in /usr/local/lib/python3.10/dist-packages (from pandas) (2023.3.post1)\n",
            "Requirement already satisfied: numpy>=1.21.0 in /usr/local/lib/python3.10/dist-packages (from pandas) (1.23.5)\n",
            "Requirement already satisfied: six>=1.5 in /usr/local/lib/python3.10/dist-packages (from python-dateutil>=2.8.1->pandas) (1.16.0)\n",
            "Collecting pocketsphinx\n",
            "  Downloading pocketsphinx-5.0.3-cp310-cp310-manylinux_2_17_x86_64.manylinux2014_x86_64.whl (29.2 MB)\n",
            "\u001b[2K     \u001b[90m━━━━━━━━━━━━━━━━━━━━━━━━━━━━━━━━━━━━━━━━\u001b[0m \u001b[32m29.2/29.2 MB\u001b[0m \u001b[31m27.0 MB/s\u001b[0m eta \u001b[36m0:00:00\u001b[0m\n",
            "\u001b[?25hCollecting sounddevice (from pocketsphinx)\n",
            "  Downloading sounddevice-0.4.6-py3-none-any.whl (31 kB)\n",
            "Requirement already satisfied: CFFI>=1.0 in /usr/local/lib/python3.10/dist-packages (from sounddevice->pocketsphinx) (1.16.0)\n",
            "Requirement already satisfied: pycparser in /usr/local/lib/python3.10/dist-packages (from CFFI>=1.0->sounddevice->pocketsphinx) (2.21)\n",
            "Installing collected packages: sounddevice, pocketsphinx\n",
            "Successfully installed pocketsphinx-5.0.3 sounddevice-0.4.6\n"
          ]
        }
      ],
      "source": [
        "!pip install SpeechRecognition\n",
        "!pip install pydub\n",
        "!pip install transformers\n",
        "!pip install faiss-cpu\n",
        "!pip install torch\n",
        "!pip install pandas\n",
        "!pip install pocketsphinx"
      ]
    },
    {
      "cell_type": "markdown",
      "source": [
        "## Importing libraries"
      ],
      "metadata": {
        "id": "eRME0Bn3EmKK"
      }
    },
    {
      "cell_type": "code",
      "source": [
        "import speech_recognition as sr\n",
        "from pydub import AudioSegment\n",
        "from transformers import BertTokenizer, BertModel\n",
        "import faiss\n",
        "import torch\n",
        "import argparse\n",
        "import os\n",
        "import pandas as pd"
      ],
      "metadata": {
        "id": "WRysuF399kR2"
      },
      "execution_count": 21,
      "outputs": []
    },
    {
      "cell_type": "markdown",
      "source": [
        "#Pt2. Extract audio from video"
      ],
      "metadata": {
        "id": "hhsywIlli6D8"
      }
    },
    {
      "cell_type": "code",
      "source": [
        "video_filename = \"video1.mp4\"\n",
        "prefix = video_filename.split('.')[0]\n",
        "audio_filename = f\"{prefix}_audio.wav\"\n",
        "video = AudioSegment.from_file(video_filename, format=\"mp4\")\n",
        "audio = video.set_channels(1).set_frame_rate(16000).set_sample_width(2)\n",
        "audio.export(audio_filename, format=\"wav\")"
      ],
      "metadata": {
        "colab": {
          "base_uri": "https://localhost:8080/"
        },
        "id": "Y991-AutjF6g",
        "outputId": "a008ea7d-176e-4604-b4c7-963fda179558"
      },
      "execution_count": 22,
      "outputs": [
        {
          "output_type": "execute_result",
          "data": {
            "text/plain": [
              "<_io.BufferedRandom name='video1_audio.wav'>"
            ]
          },
          "metadata": {},
          "execution_count": 22
        }
      ]
    },
    {
      "cell_type": "markdown",
      "source": [
        "#Pt3 Extract vide"
      ],
      "metadata": {
        "id": "MwLlYYjhr0Je"
      }
    },
    {
      "cell_type": "code",
      "source": [
        "# Initialize recognizer\n",
        "recognizer = sr.Recognizer()\n",
        "\n",
        "with sr.AudioFile(audio_filename) as source:\n",
        "  # read the entire audio file\n",
        "  audio_text = recognizer.record(source)\n",
        "\n",
        "transcript = recognizer.recognize_sphinx(audio_text)\n",
        "\n",
        "# Save the transcript\n",
        "with open(f\"{prefix}_transcript.txt\", \"w\") as file:\n",
        "  file.write(transcript)\n"
      ],
      "metadata": {
        "id": "XKZQjN8Nr4R7"
      },
      "execution_count": 23,
      "outputs": []
    },
    {
      "cell_type": "markdown",
      "source": [
        "# Pt4. Generate word embeedings"
      ],
      "metadata": {
        "id": "nSNBgjUZLoWq"
      }
    },
    {
      "cell_type": "markdown",
      "source": [
        "## Split transcription in a list of sentences"
      ],
      "metadata": {
        "id": "epfi1LX7NSIQ"
      }
    },
    {
      "cell_type": "code",
      "source": [
        "sentences = []\n",
        "buffer = ''\n",
        "with open('./video1_transcript.txt', 'r') as file:\n",
        "  while True:\n",
        "    chunk = file.read(1024)\n",
        "    if not chunk:\n",
        "      break\n",
        "    text = (buffer + chunk).split('.')\n",
        "    for sentence in text[:-1]:\n",
        "      sentences.append(sentence.strip() + \".\")\n",
        "    buffer = text[-1]  # Incomplete sentence, stored for the next iteration\n",
        "\n",
        "if buffer:  # Process any remaining incomplete sentence at the end of the file\n",
        "  sentences.append(buffer.strip() + \".\")\n",
        "\n",
        "print(len(sentences))\n",
        "sentences"
      ],
      "metadata": {
        "colab": {
          "base_uri": "https://localhost:8080/"
        },
        "id": "J2tfa3KCFrIK",
        "outputId": "495bf7f2-db4d-401f-c339-d0499f05775c"
      },
      "execution_count": 27,
      "outputs": [
        {
          "output_type": "stream",
          "name": "stdout",
          "text": [
            "1\n"
          ]
        },
        {
          "output_type": "execute_result",
          "data": {
            "text/plain": [
              "[\"mm unknown one of the one fascinated by the natural world has probably wondered why so that a socially and he says would use the elephant with its huge year and one yet available for flight which old clothes look like feathers been listening for this would haunt him what about was abusive husbands like the centuries all of crocodiles can surely these evolutionary tree toward just for decoration update in fact the somalis shoot the location of these animals and shortages coal for her husband just like goes i was real oiler sensitive to do with each other find their way around stay safe and most importantly kept falling from when you see how superior some animal senses are compared to those of humans you might wonder how we ever managed to stay on top of the food chain and also purchases you won't believe what's possible how broth and that's what individuals who can read and sending receiving information that is what what i was used on haitian to attract mates mortgage predators defend her too weak to trigger worrying now and of course it isn't says that played a key role in sight smell taste huh.\"]"
            ]
          },
          "metadata": {},
          "execution_count": 27
        }
      ]
    },
    {
      "cell_type": "markdown",
      "source": [
        "## Encoding sentences"
      ],
      "metadata": {
        "id": "6XebKIoZlgEx"
      }
    },
    {
      "cell_type": "code",
      "source": [
        "tokenizer = BertTokenizer.from_pretrained('bert-base-uncased')\n",
        "model = BertModel.from_pretrained('bert-base-uncased')\n",
        "\n",
        "encoding = tokenizer.batch_encode_plus(\n",
        "    sentences,                 # List of input texts\n",
        "    padding=True,              # Pad to the maximum sequence length\n",
        "    truncation=True,           # Truncate to the maximum sequence length if necessary\n",
        "    return_tensors='pt',       # Return PyTorch tensors\n",
        "    add_special_tokens=True    # Add special tokens CLS and SEP\n",
        ")\n",
        "input_ids = encoding['input_ids']  # Token IDs\n",
        "attention_mask = encoding['attention_mask']  # Attention mask\n",
        "\n",
        "print(tokenizer.convert_ids_to_tokens(input_ids[0]))\n",
        "print(f\"Input ID: {input_ids}\")\n",
        "print(f\"Attention mask: {attention_mask}\")"
      ],
      "metadata": {
        "colab": {
          "base_uri": "https://localhost:8080/"
        },
        "id": "JgIViK_gFZZ4",
        "outputId": "9296103d-2ee8-415f-f375-3a74a6e91b8a"
      },
      "execution_count": 28,
      "outputs": [
        {
          "output_type": "stream",
          "name": "stderr",
          "text": [
            "/usr/local/lib/python3.10/dist-packages/huggingface_hub/utils/_token.py:72: UserWarning: \n",
            "The secret `HF_TOKEN` does not exist in your Colab secrets.\n",
            "To authenticate with the Hugging Face Hub, create a token in your settings tab (https://huggingface.co/settings/tokens), set it as secret in your Google Colab and restart your session.\n",
            "You will be able to reuse this secret in all of your notebooks.\n",
            "Please note that authentication is recommended but still optional to access public models or datasets.\n",
            "  warnings.warn(\n"
          ]
        },
        {
          "output_type": "stream",
          "name": "stdout",
          "text": [
            "['[CLS]', 'mm', 'unknown', 'one', 'of', 'the', 'one', 'fascinated', 'by', 'the', 'natural', 'world', 'has', 'probably', 'wondered', 'why', 'so', 'that', 'a', 'socially', 'and', 'he', 'says', 'would', 'use', 'the', 'elephant', 'with', 'its', 'huge', 'year', 'and', 'one', 'yet', 'available', 'for', 'flight', 'which', 'old', 'clothes', 'look', 'like', 'feathers', 'been', 'listening', 'for', 'this', 'would', 'haunt', 'him', 'what', 'about', 'was', 'abusive', 'husbands', 'like', 'the', 'centuries', 'all', 'of', 'crocodile', '##s', 'can', 'surely', 'these', 'evolutionary', 'tree', 'toward', 'just', 'for', 'decoration', 'update', 'in', 'fact', 'the', 'somali', '##s', 'shoot', 'the', 'location', 'of', 'these', 'animals', 'and', 'shortages', 'coal', 'for', 'her', 'husband', 'just', 'like', 'goes', 'i', 'was', 'real', 'oil', '##er', 'sensitive', 'to', 'do', 'with', 'each', 'other', 'find', 'their', 'way', 'around', 'stay', 'safe', 'and', 'most', 'importantly', 'kept', 'falling', 'from', 'when', 'you', 'see', 'how', 'superior', 'some', 'animal', 'senses', 'are', 'compared', 'to', 'those', 'of', 'humans', 'you', 'might', 'wonder', 'how', 'we', 'ever', 'managed', 'to', 'stay', 'on', 'top', 'of', 'the', 'food', 'chain', 'and', 'also', 'purchases', 'you', 'won', \"'\", 't', 'believe', 'what', \"'\", 's', 'possible', 'how', 'bro', '##th', 'and', 'that', \"'\", 's', 'what', 'individuals', 'who', 'can', 'read', 'and', 'sending', 'receiving', 'information', 'that', 'is', 'what', 'what', 'i', 'was', 'used', 'on', 'haitian', 'to', 'attract', 'mates', 'mortgage', 'predators', 'defend', 'her', 'too', 'weak', 'to', 'trigger', 'worrying', 'now', 'and', 'of', 'course', 'it', 'isn', \"'\", 't', 'says', 'that', 'played', 'a', 'key', 'role', 'in', 'sight', 'smell', 'taste', 'huh', '.', '[SEP]']\n",
            "Input ID: tensor([[  101,  3461,  4242,  2028,  1997,  1996,  2028, 15677,  2011,  1996,\n",
            "          3019,  2088,  2038,  2763,  4999,  2339,  2061,  2008,  1037, 14286,\n",
            "          1998,  2002,  2758,  2052,  2224,  1996, 10777,  2007,  2049,  4121,\n",
            "          2095,  1998,  2028,  2664,  2800,  2005,  3462,  2029,  2214,  4253,\n",
            "          2298,  2066, 12261,  2042,  5962,  2005,  2023,  2052, 24542,  2032,\n",
            "          2054,  2055,  2001, 20676, 19089,  2066,  1996,  4693,  2035,  1997,\n",
            "         21843,  2015,  2064,  7543,  2122, 12761,  3392,  2646,  2074,  2005,\n",
            "         11446, 10651,  1999,  2755,  1996, 16831,  2015,  5607,  1996,  3295,\n",
            "          1997,  2122,  4176,  1998, 22623,  5317,  2005,  2014,  3129,  2074,\n",
            "          2066,  3632,  1045,  2001,  2613,  3514,  2121,  7591,  2000,  2079,\n",
            "          2007,  2169,  2060,  2424,  2037,  2126,  2105,  2994,  3647,  1998,\n",
            "          2087, 14780,  2921,  4634,  2013,  2043,  2017,  2156,  2129,  6020,\n",
            "          2070,  4111,  9456,  2024,  4102,  2000,  2216,  1997,  4286,  2017,\n",
            "          2453,  4687,  2129,  2057,  2412,  3266,  2000,  2994,  2006,  2327,\n",
            "          1997,  1996,  2833,  4677,  1998,  2036, 17402,  2017,  2180,  1005,\n",
            "          1056,  2903,  2054,  1005,  1055,  2825,  2129, 22953,  2705,  1998,\n",
            "          2008,  1005,  1055,  2054,  3633,  2040,  2064,  3191,  1998,  6016,\n",
            "          4909,  2592,  2008,  2003,  2054,  2054,  1045,  2001,  2109,  2006,\n",
            "         21404,  2000,  9958, 14711, 14344, 12630,  6985,  2014,  2205,  5410,\n",
            "          2000,  9495, 15366,  2085,  1998,  1997,  2607,  2009,  3475,  1005,\n",
            "          1056,  2758,  2008,  2209,  1037,  3145,  2535,  1999,  4356,  5437,\n",
            "          5510,  9616,  1012,   102]])\n",
            "Attention mask: tensor([[1, 1, 1, 1, 1, 1, 1, 1, 1, 1, 1, 1, 1, 1, 1, 1, 1, 1, 1, 1, 1, 1, 1, 1,\n",
            "         1, 1, 1, 1, 1, 1, 1, 1, 1, 1, 1, 1, 1, 1, 1, 1, 1, 1, 1, 1, 1, 1, 1, 1,\n",
            "         1, 1, 1, 1, 1, 1, 1, 1, 1, 1, 1, 1, 1, 1, 1, 1, 1, 1, 1, 1, 1, 1, 1, 1,\n",
            "         1, 1, 1, 1, 1, 1, 1, 1, 1, 1, 1, 1, 1, 1, 1, 1, 1, 1, 1, 1, 1, 1, 1, 1,\n",
            "         1, 1, 1, 1, 1, 1, 1, 1, 1, 1, 1, 1, 1, 1, 1, 1, 1, 1, 1, 1, 1, 1, 1, 1,\n",
            "         1, 1, 1, 1, 1, 1, 1, 1, 1, 1, 1, 1, 1, 1, 1, 1, 1, 1, 1, 1, 1, 1, 1, 1,\n",
            "         1, 1, 1, 1, 1, 1, 1, 1, 1, 1, 1, 1, 1, 1, 1, 1, 1, 1, 1, 1, 1, 1, 1, 1,\n",
            "         1, 1, 1, 1, 1, 1, 1, 1, 1, 1, 1, 1, 1, 1, 1, 1, 1, 1, 1, 1, 1, 1, 1, 1,\n",
            "         1, 1, 1, 1, 1, 1, 1, 1, 1, 1, 1, 1, 1, 1, 1, 1, 1, 1, 1, 1, 1, 1]])\n"
          ]
        }
      ]
    },
    {
      "cell_type": "markdown",
      "source": [
        "##Generate word embeedings"
      ],
      "metadata": {
        "id": "6X5Nskj5MC-Y"
      }
    },
    {
      "cell_type": "code",
      "source": [
        "# Generate embeddings using BERT model\n",
        "outputs = None\n",
        "with torch.no_grad():\n",
        "  outputs = model(input_ids, attention_mask=attention_mask)\n",
        "  embeddings = outputs.last_hidden_state.mean(dim=1)  # This contains the embeddings\n",
        "dimension = embeddings.shape[1]\n",
        "embeddings"
      ],
      "metadata": {
        "colab": {
          "base_uri": "https://localhost:8080/"
        },
        "id": "FJCSMBX5G7k2",
        "outputId": "3ddf7a9e-e193-4a1d-b13f-980801e66f17"
      },
      "execution_count": 29,
      "outputs": [
        {
          "output_type": "execute_result",
          "data": {
            "text/plain": [
              "tensor([[ 7.3845e-02,  2.4064e-01,  3.9455e-01, -7.7207e-02,  3.4091e-01,\n",
              "         -2.9062e-01,  2.4080e-01,  5.8202e-01,  4.5681e-02, -3.8257e-01,\n",
              "          4.3389e-01, -4.2421e-01, -8.9492e-02,  5.3538e-01, -7.6735e-01,\n",
              "          2.5667e-01,  2.3315e-01,  4.6315e-02, -1.1845e-01,  3.3307e-01,\n",
              "          4.8369e-01, -6.3948e-02,  1.7987e-03,  1.9575e-01,  4.4466e-01,\n",
              "         -2.1665e-01, -6.8703e-02,  5.9327e-02, -1.2687e-01, -1.5661e-01,\n",
              "          3.9326e-01,  1.8205e-01, -3.0477e-01, -1.1399e-01, -1.9866e-01,\n",
              "         -1.5211e-01, -5.1954e-01, -7.6271e-03, -1.5939e-01,  3.2132e-01,\n",
              "         -5.1335e-01, -3.3676e-01, -1.2710e-01,  1.2849e-01, -7.5629e-01,\n",
              "         -1.8586e-01,  5.8936e-02, -6.8429e-02,  1.2338e-01,  5.6924e-03,\n",
              "         -1.9549e-01, -5.7843e-03, -5.0394e-01, -1.7760e-01,  2.1725e-01,\n",
              "          6.5395e-01,  1.0575e-01, -4.4441e-01, -6.7160e-01, -3.0942e-01,\n",
              "          5.6059e-01,  1.3865e-01,  1.1479e-01, -3.2165e-01,  1.1511e-01,\n",
              "         -3.5636e-02, -2.7275e-03,  7.0534e-03, -2.7825e-01,  9.9790e-04,\n",
              "         -2.3281e-01,  2.0631e-01, -2.6975e-01,  5.3649e-01, -1.7946e-01,\n",
              "          1.9155e-01, -3.7316e-01,  2.8858e-01,  2.9420e-01, -1.1872e-01,\n",
              "         -4.8159e-01,  2.3600e-01, -5.9468e-01,  4.3808e-01, -7.6800e-03,\n",
              "          1.5276e-01,  1.8410e-01,  4.0535e-01, -5.1034e-01,  4.7026e-01,\n",
              "          6.9903e-01, -4.0349e-01, -2.1797e-01, -1.9083e-01, -1.2699e-01,\n",
              "          9.6274e-02,  2.6522e-01, -4.5987e-02, -1.1317e-01,  8.9221e-01,\n",
              "          1.9902e-01, -3.4637e-01,  1.1853e-01, -1.8073e-01,  2.8539e-01,\n",
              "         -4.0776e-01,  6.2962e-02,  7.0391e-01,  1.3260e-01,  1.6287e-01,\n",
              "          8.5410e-02, -4.0958e-01, -7.8237e-02, -1.6858e-02, -2.2010e-01,\n",
              "         -7.7216e-02,  4.9879e-01, -1.7558e-01,  2.7662e-01,  2.9992e-01,\n",
              "         -2.2253e-01, -1.5629e-01,  3.1429e-01,  1.0316e+00, -2.1941e-02,\n",
              "          2.1781e-02, -5.5673e-01,  2.0261e-02, -1.9275e-01, -6.0987e-02,\n",
              "          1.6768e-01,  3.0059e-01, -4.8581e-01, -5.5961e-01, -2.0408e-01,\n",
              "          3.0728e-01, -1.8462e-02, -5.4881e-01, -5.9346e-01,  2.3576e-01,\n",
              "         -1.1969e-01, -1.6331e-01,  3.9548e-01,  2.3440e-01, -6.6746e-02,\n",
              "         -1.5464e-01, -4.0618e-01, -7.6579e-02,  2.8927e-02,  3.5316e-01,\n",
              "         -6.7321e-02, -3.4930e-01,  8.5860e-02, -2.3627e-01, -1.9809e-01,\n",
              "         -1.6418e-01, -3.1882e-01,  1.2546e-01,  1.6499e-02,  2.7888e-01,\n",
              "          2.8670e-01, -3.1384e-01, -1.9992e-01,  1.5342e-01, -1.6250e-02,\n",
              "         -2.7307e-01,  3.4183e-01,  6.1544e-01, -5.4035e-01,  1.2424e-01,\n",
              "          2.8600e-01,  2.7351e-01,  7.9946e-01, -1.0648e-01, -2.5964e-02,\n",
              "         -4.3387e-01, -4.4977e-02, -4.4648e-02, -1.0583e-02,  4.3313e-01,\n",
              "         -6.2838e-01,  4.2010e-01, -1.3620e-01,  1.8315e-01,  2.6580e-01,\n",
              "         -1.7256e-01,  2.0077e-01,  2.0944e-02,  3.5191e-01, -3.5483e-01,\n",
              "         -4.3765e-01, -2.2516e-01, -1.1783e-01, -3.2656e-02,  2.6815e-01,\n",
              "         -7.0396e-01,  1.8435e-02, -1.5963e-01, -3.4674e-01, -1.2071e-02,\n",
              "          1.6366e-01, -1.0999e-01,  1.8163e-01,  3.9235e-01, -3.3503e-01,\n",
              "         -3.6119e-01,  1.2222e-01, -2.4966e-02,  2.7152e-01,  4.1338e-01,\n",
              "          1.5177e-01,  5.1178e-01,  6.7317e-02,  4.7157e-02, -6.0547e-02,\n",
              "         -1.2347e-01, -2.1033e-01,  2.3923e-01,  2.4342e-01,  2.3798e-01,\n",
              "         -8.1473e-02,  2.0228e-01, -5.1039e-01,  5.0696e-01, -2.7054e-01,\n",
              "          3.1866e-01, -1.4914e-01, -8.2400e-01,  4.8036e-03,  5.4193e-01,\n",
              "         -7.6808e-02, -4.3431e-01,  9.6675e-01, -3.5684e-01, -2.5387e-02,\n",
              "          3.9576e-02,  2.2601e-02, -1.6154e-01,  1.4293e-01, -3.7309e-01,\n",
              "         -5.0125e-01,  3.9155e-01,  3.3604e-01,  1.1887e-02, -2.3796e-02,\n",
              "         -2.7975e-01, -2.8958e-01, -4.2133e-01, -1.6820e-01, -3.6686e-01,\n",
              "         -3.4102e-01,  7.2895e-02,  2.6486e-01, -5.8463e-01,  8.4839e-03,\n",
              "         -2.9814e-01, -1.4728e-01, -3.7550e-01, -3.4526e-03, -1.9683e-01,\n",
              "          5.6020e-01,  1.4664e-01, -3.7991e-01, -1.6402e-01, -4.4197e-01,\n",
              "         -6.9866e-01, -2.0726e-01,  4.5095e-01,  1.9968e-01,  8.5924e-02,\n",
              "          2.9763e-01, -2.1999e-01,  1.6581e-01,  8.9481e-01,  4.9979e-02,\n",
              "         -1.5291e-01,  4.3522e-01,  1.5519e-01, -5.5362e-02, -5.0196e-01,\n",
              "          2.9575e-01,  4.9314e-01,  9.0356e-02, -9.8735e-02,  2.2573e-01,\n",
              "         -3.4153e-01, -1.6462e-01,  3.5607e-01,  5.7295e-02, -6.4242e-01,\n",
              "         -1.4830e-01, -1.0416e-01, -2.8822e-01, -2.7453e-01,  2.9493e-02,\n",
              "          2.3324e-01, -4.2429e-02,  5.7812e-02,  4.4939e-01, -4.5828e-01,\n",
              "         -4.1229e-01,  1.4731e-01,  1.7404e-01,  5.0875e-01, -1.4813e-01,\n",
              "         -1.0466e-02, -1.0175e-01, -1.6149e-01, -4.0637e+00, -1.4461e-01,\n",
              "          4.0009e-01, -3.3693e-01,  4.9402e-01, -1.2882e-01,  4.5350e-01,\n",
              "         -1.6008e-01, -2.5856e-01,  3.9350e-02,  3.8839e-01, -4.2407e-01,\n",
              "          3.3958e-01,  5.1876e-01,  2.4863e-01,  3.1752e-02, -8.3805e-02,\n",
              "         -2.1908e-01, -4.4756e-01,  3.8297e-01,  1.0216e-01, -3.7626e-01,\n",
              "          4.6142e-01, -3.0239e-01,  1.9060e-01,  1.3066e-01, -2.5802e-01,\n",
              "         -8.5105e-02,  3.3839e-02, -2.6900e-01,  2.1223e-01, -4.9463e-02,\n",
              "          2.1398e-02,  2.5905e-01,  2.3606e-01,  1.4828e-01,  2.8880e-01,\n",
              "         -2.2169e-01, -1.2645e-01, -1.3496e-01, -2.0280e-01, -7.8586e-01,\n",
              "         -5.5902e-02, -2.3002e-02,  7.6095e-01, -2.6528e-01, -8.3424e-02,\n",
              "         -2.9722e-01,  9.3931e-02,  1.4278e-01,  2.7564e-01, -2.1917e-01,\n",
              "         -3.0319e-01, -2.3980e-01, -3.2667e-01, -3.7078e-02,  7.4800e-01,\n",
              "          6.0332e-01, -2.8840e-01, -6.0253e-01, -4.4871e-01, -7.5993e-03,\n",
              "         -6.0411e-01, -2.9260e-01,  5.4641e-02, -5.2733e-02, -3.0490e-01,\n",
              "          1.3444e-01,  1.6618e-01,  2.1654e-01, -2.5793e-02,  3.2136e-01,\n",
              "         -2.8986e-01, -5.3602e-01, -1.2952e-01,  1.5591e-01, -3.0431e-02,\n",
              "         -3.7771e-01, -3.8916e-03,  6.8271e-02,  1.7839e-01,  1.3075e-01,\n",
              "         -1.4093e-01, -1.7455e-01, -2.5372e-01, -5.6754e-01,  2.0613e-01,\n",
              "         -4.2306e-01, -4.2727e-01, -6.4189e-01,  4.7716e-01,  4.7078e-03,\n",
              "          1.8893e-01,  2.7626e-01,  7.4781e-01,  1.7355e-01,  3.3128e-01,\n",
              "         -3.6168e-01,  3.4424e-01, -2.1054e-01,  3.8602e-01,  2.3918e-01,\n",
              "          4.3826e-01, -1.6756e-01,  4.3606e-01, -2.6651e-01, -1.0648e-01,\n",
              "          1.2655e-01, -7.5983e-02, -1.3970e-01,  2.5596e-01, -5.2860e-01,\n",
              "          5.8180e-01, -3.1957e-01, -4.7378e-01, -3.5847e-01,  7.6151e-01,\n",
              "          5.4180e-01, -4.7039e-02, -3.0210e-01,  1.5971e-01,  4.2994e-01,\n",
              "         -6.1462e-01, -8.9628e-01, -5.7951e-01, -2.2203e-01, -3.7243e-01,\n",
              "          3.1716e-01, -3.4642e-01,  3.1416e-01, -5.2454e-01, -3.2084e-01,\n",
              "         -1.2830e-02,  4.9692e-01,  3.6300e-02,  3.6888e-02,  1.8578e-01,\n",
              "         -6.9433e-01,  3.7837e-02, -6.9571e-02, -4.8211e-02, -2.3415e-01,\n",
              "         -2.0157e-02,  2.3285e-03, -1.3834e-01,  2.0235e-01, -3.5683e-01,\n",
              "         -1.5753e-01, -2.6429e-01, -1.5695e-01, -3.9984e-01, -4.7030e-01,\n",
              "          2.4177e-01, -9.8220e-02,  7.2734e-02, -3.5705e-02,  2.4508e-01,\n",
              "          1.5005e-01, -3.8199e-01, -6.0607e-01, -2.6350e-01,  2.9398e-01,\n",
              "          1.3599e-01,  3.1883e-01, -2.1475e-01,  5.6446e-01, -4.2320e-02,\n",
              "         -4.3949e-01,  2.7399e-01,  2.1405e-01, -3.2260e-01, -2.3926e-01,\n",
              "         -3.7314e-01, -2.5198e-02, -3.7695e-01,  3.5152e-01,  3.4839e-02,\n",
              "         -1.2729e-01, -5.4758e-01,  8.1157e-02, -5.7259e-02,  1.6068e-01,\n",
              "         -2.9326e-02, -7.5641e-02,  4.3036e-01,  2.5831e-01,  3.9346e-01,\n",
              "         -4.9653e-01,  7.4663e-02,  3.9363e-01, -2.6100e-01,  8.1157e-01,\n",
              "         -2.4902e-02,  1.4362e-01, -8.3770e-02,  1.8987e-01,  5.0328e-01,\n",
              "         -1.4648e-02,  5.5457e-02,  1.5322e-01,  6.2708e-01, -4.0604e-02,\n",
              "          2.9883e-01,  6.1605e-02, -7.0718e-02, -1.7118e-01,  1.8906e-01,\n",
              "          1.5065e-01,  1.4952e-01,  4.2850e-02, -3.6548e-01, -1.3061e-01,\n",
              "         -1.4740e-01,  1.1665e-01,  9.8578e-02, -4.0543e-01,  2.9558e-01,\n",
              "          6.5173e-03, -5.7038e-01,  4.5743e-01,  4.7690e-02, -3.0754e-01,\n",
              "         -1.3073e-01,  1.4301e-01, -5.2021e-01, -5.2435e-01,  6.0506e-01,\n",
              "         -1.2531e-03,  4.1166e-02, -2.8528e-01,  2.8048e-01, -5.0339e-01,\n",
              "          1.8781e-01,  2.2580e-01, -4.1173e-01,  3.5712e-01,  3.9009e-01,\n",
              "         -4.8040e-01,  3.2397e-01, -4.7762e-02, -1.0980e-01, -1.7677e-02,\n",
              "         -1.1323e-01, -4.8796e-01, -1.2194e-02,  5.2309e-01,  7.2484e-02,\n",
              "          5.1128e-01, -4.7881e-02,  4.7500e-01,  2.8777e-01,  2.4627e-01,\n",
              "          1.6716e-01, -1.1774e-01, -1.4421e-01, -2.3639e-01, -6.3910e-01,\n",
              "          6.8133e-02, -2.2135e-01, -2.5781e-01, -3.3234e-01,  1.9935e-01,\n",
              "         -2.4494e-01, -2.5095e-01,  9.3503e-02,  1.3888e-01,  1.0628e-01,\n",
              "          4.2616e-01,  2.0747e-01, -1.0401e-01,  2.0856e-01, -2.2915e-01,\n",
              "          1.4405e-01, -6.8275e-02,  2.6730e-01,  4.1403e-02, -2.7265e-01,\n",
              "         -1.8677e-01,  8.4784e-01, -5.7786e-02, -5.7306e-02, -1.3946e-01,\n",
              "          2.1416e-02, -2.8879e-01, -9.0220e-02,  6.6781e-02,  2.2003e-01,\n",
              "         -3.1709e-02, -2.0244e-01, -8.6390e-02,  5.1573e-01, -3.6790e-02,\n",
              "         -1.8463e-01, -3.8657e-01,  6.0693e-02,  2.3559e-01,  5.3930e-01,\n",
              "         -1.8233e-01,  5.9602e-01,  3.4442e-01, -1.1983e-01, -2.4995e-01,\n",
              "          3.3168e-01,  2.7057e-01, -3.2357e-01, -4.6879e-04,  7.6281e-02,\n",
              "          6.4991e-02,  4.3145e-01,  2.9193e-01, -4.3037e-01, -3.5930e-01,\n",
              "          7.7395e-01,  2.7697e-01, -4.4330e-02, -3.9571e-01,  7.8594e-02,\n",
              "         -4.9156e-02,  3.5073e-02,  1.1507e-01, -1.5523e-01, -9.7063e-02,\n",
              "          5.4623e-01, -1.6390e-01,  2.3948e-01,  2.0645e-01, -3.6194e-01,\n",
              "         -1.5833e-01, -3.3684e-02,  4.1985e-02,  2.1798e-01,  3.9711e-01,\n",
              "         -2.7539e-01,  3.0005e-01,  1.4022e-01,  9.1607e-02, -3.8998e-01,\n",
              "         -1.2816e-02,  1.1901e-01,  1.5922e-01,  7.5078e-02,  3.0414e-02,\n",
              "          3.9348e-01,  4.3795e-01,  1.3596e-01,  1.9471e-01,  1.8114e-01,\n",
              "         -1.2139e-01,  1.0398e+00,  6.6098e-01,  3.0500e-01,  5.3638e-01,\n",
              "         -1.2104e-01, -1.5680e-01,  2.6761e-01,  2.8930e-01,  3.3670e-01,\n",
              "          4.4441e-01, -3.2426e-01,  6.3534e-01, -1.1853e-02,  2.2464e-01,\n",
              "          7.5890e-02, -2.6362e-01,  2.8318e-02,  4.9700e-01, -1.4311e-01,\n",
              "         -5.7624e-01, -6.0988e-01, -2.9185e-01,  4.6259e-03, -1.7062e-01,\n",
              "         -6.9019e-01, -3.2538e-01, -4.8362e-01,  5.0437e-01, -1.4299e-01,\n",
              "         -3.0647e-01, -4.6764e-01,  1.6606e-02,  9.0751e-02, -3.7628e-02,\n",
              "         -4.4599e-01, -3.0059e-01, -9.0611e-02, -2.6313e-01, -3.8213e-01,\n",
              "         -1.8320e-01, -3.7105e-01, -5.3242e-01, -4.1762e-03,  1.1427e-01,\n",
              "          6.9734e-02, -2.9489e-01, -8.6591e-02, -1.8617e-01,  6.1054e-01,\n",
              "          4.9869e-02,  4.3028e-01,  8.1605e-02,  1.9965e-01, -2.6244e-01,\n",
              "         -5.8581e-02, -8.8358e-02,  2.0773e-01,  6.2197e-02, -9.9655e-02,\n",
              "          3.7766e-01, -2.3648e-01,  2.2112e-01, -1.9970e-01,  5.0478e-01,\n",
              "         -8.9275e-01,  1.7968e-01, -1.1330e-01, -6.5324e-02,  3.9299e-03,\n",
              "          3.1068e-01, -2.7295e-01,  4.1593e-01, -4.2903e-01, -2.3724e-01,\n",
              "         -2.0366e-03, -6.5194e-02, -1.6389e-01, -4.1869e-01, -1.2368e-01,\n",
              "          4.7192e-01, -4.5869e-01, -6.2994e-02,  5.1044e-03,  2.9315e-01,\n",
              "          1.0505e-01, -3.1158e-01,  3.6836e-02, -4.9211e-02, -4.7029e-01,\n",
              "         -2.9785e-02, -1.5896e-01,  2.8796e-01,  4.8885e-01,  1.9425e-01,\n",
              "         -6.6478e-02, -4.0218e-02,  1.0420e+00, -2.5577e-01,  1.3323e-01,\n",
              "         -9.1712e-02, -5.3708e-02, -6.4462e-01, -4.4941e-01, -2.8572e-01,\n",
              "          2.5408e-02,  9.5225e-02, -1.7536e-01, -3.4417e-01,  2.1966e-01,\n",
              "         -4.4335e-01,  5.0593e-02, -3.7841e-01]])"
            ]
          },
          "metadata": {},
          "execution_count": 29
        }
      ]
    },
    {
      "cell_type": "markdown",
      "source": [
        "# Pt5. Indexing in Faiss"
      ],
      "metadata": {
        "id": "-na98AKVMPpn"
      }
    },
    {
      "cell_type": "code",
      "source": [
        "index = faiss.IndexFlatL2(dimension)  # BERT embedding size\n",
        "faiss.normalize_L2(embeddings.numpy())\n",
        "index.add(embeddings)\n",
        "faiss.write_index(index, 'video1.index')"
      ],
      "metadata": {
        "id": "P7_eprTgH-0E"
      },
      "execution_count": 31,
      "outputs": []
    },
    {
      "cell_type": "markdown",
      "source": [
        "# Pt6. Querying Faiss"
      ],
      "metadata": {
        "id": "zOdtOrN8Mlmy"
      }
    },
    {
      "cell_type": "code",
      "source": [
        "query = \"test\"\n",
        "k = 5\n",
        "\n",
        "encoding = tokenizer.encode_plus(\n",
        "    query,                 # List of input texts\n",
        "    padding=True,              # Pad to the maximum sequence length\n",
        "    truncation=True,           # Truncate to the maximum sequence length if necessary\n",
        "    return_tensors='pt',       # Return PyTorch tensors\n",
        "    add_special_tokens=True    # Add special tokens CLS and SEP\n",
        ")\n",
        "query_input_ids = encoding['input_ids']  # Token IDs\n",
        "query_attention_mask = encoding['attention_mask']  # Attention mask\n",
        "\n",
        "with torch.no_grad():\n",
        "  outputs = model(query_input_ids, attention_mask=query_attention_mask)\n",
        "  query_embeddings = outputs.last_hidden_state.mean(dim=1)\n",
        "\n",
        "distances, ann = index.search(query_embeddings.numpy(), k)\n",
        "print(distances)\n",
        "print(ann) #ann is the approximate nearest neighbour\n",
        "results = pd.DataFrame({'distances': distances[0], 'ann': ann[0]})\n",
        "sentences[ann[0][0]]\n",
        "#merge = pd.merge(results, df, left_on='ann', right_index=True)\n",
        "#results\n",
        "\n"
      ],
      "metadata": {
        "colab": {
          "base_uri": "https://localhost:8080/",
          "height": 303
        },
        "id": "SmG33O8pMoKK",
        "outputId": "f4762344-b658-4e44-e29a-8bda0dae3c53"
      },
      "execution_count": 32,
      "outputs": [
        {
          "output_type": "stream",
          "name": "stdout",
          "text": [
            "[[6.9491692e+01 3.4028235e+38 3.4028235e+38 3.4028235e+38 3.4028235e+38]]\n",
            "[[ 0 -1 -1 -1 -1]]\n"
          ]
        },
        {
          "output_type": "execute_result",
          "data": {
            "text/plain": [
              "\"mm unknown one of the one fascinated by the natural world has probably wondered why so that a socially and he says would use the elephant with its huge year and one yet available for flight which old clothes look like feathers been listening for this would haunt him what about was abusive husbands like the centuries all of crocodiles can surely these evolutionary tree toward just for decoration update in fact the somalis shoot the location of these animals and shortages coal for her husband just like goes i was real oiler sensitive to do with each other find their way around stay safe and most importantly kept falling from when you see how superior some animal senses are compared to those of humans you might wonder how we ever managed to stay on top of the food chain and also purchases you won't believe what's possible how broth and that's what individuals who can read and sending receiving information that is what what i was used on haitian to attract mates mortgage predators defend her too weak to trigger worrying now and of course it isn't says that played a key role in sight smell taste huh.\""
            ],
            "application/vnd.google.colaboratory.intrinsic+json": {
              "type": "string"
            }
          },
          "metadata": {},
          "execution_count": 32
        }
      ]
    }
  ]
}